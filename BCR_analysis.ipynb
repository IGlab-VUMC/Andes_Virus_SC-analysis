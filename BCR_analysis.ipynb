{
 "cells": [
  {
   "cell_type": "code",
   "execution_count": 1,
   "metadata": {},
   "outputs": [
    {
     "name": "stderr",
     "output_type": "stream",
     "text": [
      "c:\\Users\\perry\\anaconda3\\envs\\GEX2023\\lib\\site-packages\\tqdm\\auto.py:21: TqdmWarning: IProgress not found. Please update jupyter and ipywidgets. See https://ipywidgets.readthedocs.io/en/stable/user_install.html\n",
      "  from .autonotebook import tqdm as notebook_tqdm\n",
      "c:\\Users\\perry\\anaconda3\\envs\\GEX2023\\lib\\site-packages\\numba\\core\\cpu.py:99: UserWarning: Numba extension module 'sparse._numba_extension' failed to load due to 'ModuleNotFoundError(No module named 'numba.targets')'.\n",
      "  numba.core.entrypoints.init_all()\n"
     ]
    },
    {
     "name": "stdout",
     "output_type": "stream",
     "text": [
      "2024-05-08\n"
     ]
    }
   ],
   "source": [
    "import matplotlib.pyplot as plt\n",
    "import seaborn as sns\n",
    "import pandas as pd\n",
    "import numpy as np\n",
    "import scanpy as sc\n",
    "import scirpy as ir\n",
    "import scanpy as sc\n",
    "import muon as mu\n",
    "import os\n",
    "\n",
    "from datetime import datetime\n",
    "date = datetime.today().strftime('%Y-%m-%d')\n",
    "print (date)\n",
    "\n",
    "path = './'"
   ]
  },
  {
   "cell_type": "markdown",
   "metadata": {},
   "source": [
    "### Analysis of single cell VDJ-sequencing data"
   ]
  },
  {
   "cell_type": "code",
   "execution_count": 2,
   "metadata": {},
   "outputs": [],
   "source": [
    "order = ['U-mRNA', 'm1Ψ-mRNA', 'GPC', 'Empty LNP']\n",
    "colordict = {'U-mRNA':'cornflowerblue', 'm1Ψ-mRNA':'red', 'GPC':'lightgreen', 'Empty LNP':'black'}"
   ]
  },
  {
   "cell_type": "code",
   "execution_count": 3,
   "metadata": {},
   "outputs": [],
   "source": [
    "# I think it would be better to align each sample as I load it, then concatenate all of them.\n",
    "\n",
    "def load_vdj(folder):\n",
    "\n",
    "    # Load in Cell Ranger outputs\n",
    "    vdj_output = pd.read_csv((path +folder + '/' + [f for f in os.listdir(path + folder) if 'paired' in (f)][0]), index_col=0)\n",
    "    vdj_output['Repeat'] = folder\n",
    "\n",
    "    vdj_output.index = vdj_output.index + '-1-' + (folder)[0] + (folder)[-1]\n",
    "\n",
    "    print('vdj shape:')\n",
    "    print(vdj_output.shape)\n",
    "\n",
    "    return vdj_output"
   ]
  },
  {
   "attachments": {},
   "cell_type": "markdown",
   "metadata": {},
   "source": [
    "Uridine"
   ]
  },
  {
   "cell_type": "code",
   "execution_count": 4,
   "metadata": {},
   "outputs": [
    {
     "name": "stdout",
     "output_type": "stream",
     "text": [
      "vdj shape:\n",
      "(2766, 63)\n",
      "vdj shape:\n",
      "(4322, 63)\n",
      "vdj shape:\n",
      "(5038, 63)\n",
      "vdj shape:\n",
      "(3912, 63)\n"
     ]
    }
   ],
   "source": [
    "u1_vdj = load_vdj('uridine1')\n",
    "u2_vdj = load_vdj('uridine2')\n",
    "u3_vdj = load_vdj('uridine3')\n",
    "u4_vdj = load_vdj('uridine4')\n",
    "\n",
    "# Concatenate the samples\n",
    "u_vdj = pd.concat([u1_vdj, u2_vdj, u3_vdj, u4_vdj])"
   ]
  },
  {
   "attachments": {},
   "cell_type": "markdown",
   "metadata": {},
   "source": [
    "Pseudouridine"
   ]
  },
  {
   "cell_type": "code",
   "execution_count": 5,
   "metadata": {},
   "outputs": [
    {
     "name": "stdout",
     "output_type": "stream",
     "text": [
      "vdj shape:\n",
      "(4493, 63)\n",
      "vdj shape:\n",
      "(4584, 63)\n",
      "vdj shape:\n",
      "(4397, 63)\n",
      "vdj shape:\n",
      "(4893, 63)\n"
     ]
    }
   ],
   "source": [
    "p1_vdj = load_vdj('pseudo1')\n",
    "p2_vdj = load_vdj('pseudo2')\n",
    "p3_vdj = load_vdj('pseudo3')\n",
    "p4_vdj = load_vdj('pseudo4')\n",
    "\n",
    "# Concatenate the samples, \n",
    "p_vdj = pd.concat([p1_vdj, p2_vdj, p3_vdj, p4_vdj])"
   ]
  },
  {
   "attachments": {},
   "cell_type": "markdown",
   "metadata": {},
   "source": [
    "Empty Nano"
   ]
  },
  {
   "cell_type": "code",
   "execution_count": 6,
   "metadata": {},
   "outputs": [
    {
     "name": "stdout",
     "output_type": "stream",
     "text": [
      "vdj shape:\n",
      "(993, 63)\n",
      "vdj shape:\n",
      "(611, 63)\n",
      "vdj shape:\n",
      "(906, 63)\n",
      "vdj shape:\n",
      "(1254, 63)\n"
     ]
    }
   ],
   "source": [
    "n1_vdj = load_vdj('nano1')\n",
    "n2_vdj = load_vdj('nano2')\n",
    "n3_vdj = load_vdj('nano3')\n",
    "n4_vdj = load_vdj('nano4')\n",
    "\n",
    "# Concatenate the samples\n",
    "n_vdj = pd.concat([n1_vdj, n2_vdj, n3_vdj, n4_vdj])"
   ]
  },
  {
   "attachments": {},
   "cell_type": "markdown",
   "metadata": {},
   "source": [
    "GPCAg"
   ]
  },
  {
   "cell_type": "code",
   "execution_count": 7,
   "metadata": {},
   "outputs": [
    {
     "name": "stdout",
     "output_type": "stream",
     "text": [
      "vdj shape:\n",
      "(1865, 63)\n",
      "vdj shape:\n",
      "(3439, 63)\n",
      "vdj shape:\n",
      "(3741, 63)\n",
      "vdj shape:\n",
      "(3701, 63)\n"
     ]
    }
   ],
   "source": [
    "g1_vdj = load_vdj('GPCAg-1')\n",
    "g2_vdj = load_vdj('GPCAg-2')\n",
    "g3_vdj = load_vdj('GPCAg-3')\n",
    "g4_vdj = load_vdj('GPCAg-4')\n",
    "\n",
    "# Concatenate the samples\n",
    "g_vdj = pd.concat([g1_vdj, g2_vdj, g3_vdj, g4_vdj])"
   ]
  },
  {
   "attachments": {},
   "cell_type": "markdown",
   "metadata": {},
   "source": [
    "### Concatenation"
   ]
  },
  {
   "cell_type": "code",
   "execution_count": 8,
   "metadata": {},
   "outputs": [],
   "source": [
    "vdj_dfs = [p_vdj,  u_vdj, g_vdj, n_vdj] \n",
    "vdj_df = pd.concat(vdj_dfs)"
   ]
  },
  {
   "cell_type": "code",
   "execution_count": 9,
   "metadata": {},
   "outputs": [],
   "source": [
    "vdj_df['Sample'] = [i.split('-')[2][0] for i in vdj_df.index]\n",
    "vdj_df['Sample']= vdj_df['Sample'].map({'u':'U-mRNA', 'p':'m1Ψ-mRNA', 'G':'GPC', 'n':'Empty LNP'})"
   ]
  },
  {
   "cell_type": "code",
   "execution_count": 10,
   "metadata": {},
   "outputs": [],
   "source": [
    "vgene_df = pd.DataFrame(vdj_df.groupby('Sample')['V_CALL.H'].value_counts())\n",
    "vgene_df.columns = ['Count']\n",
    "vgene_df['VH_gene'] = vgene_df.index.get_level_values(0)\n",
    "vgene_df.index = vgene_df.index.droplevel(0)\n",
    "vgene_df = vgene_df.pivot(columns='VH_gene')\n",
    "vgene_df.columns = vgene_df.columns.droplevel(0)\n",
    "\n",
    "vgene_df.index = [i.replace('Musmus ', '') for i in vgene_df.index]\n",
    "\n",
    "# Normalize by number of condition cells\n",
    "vgene_df= vgene_df.divide(vdj_df['Sample'].value_counts(), axis=1) * 100"
   ]
  },
  {
   "cell_type": "code",
   "execution_count": 12,
   "metadata": {},
   "outputs": [
    {
     "data": {
      "image/png": "[encoded data removed]",
      "text/plain": [
       "<Figure size 600x400 with 1 Axes>"
      ]
     },
     "metadata": {},
     "output_type": "display_data"
    }
   ],
   "source": [
    "sns.set(rc = {'figure.figsize':(6,4)}, font_scale=1.1, palette='tab10', font=\"Arial\" )\n",
    "sns.set_style(\"white\", { \"ytick.major.size\": 0.1, \"ytick.minor.size\": 0.05, 'grid.linestyle': '--', 'axes.edgecolor': 'black', 'axes.spines.right': True, 'axes.spines.top': True})\n",
    "\n",
    "plot_df = vgene_df.sort_values(by='m1Ψ-mRNA', ascending=False).head(10)\n",
    "plot_df = plot_df[['Empty LNP','U-mRNA', 'm1Ψ-mRNA', 'GPC']]\n",
    "\n",
    "vgene_df.sort_values(by='m1Ψ-mRNA', ascending=False).head(10).plot.bar(width=0.7, color=colordict)\n",
    "plt.ylabel('Percent of BCRs')\n",
    "\n",
    "plt.tight_layout()\n",
    "\n",
    "# plt.savefig('vh_gene_usage.svg')"
   ]
  },
  {
   "cell_type": "code",
   "execution_count": 29,
   "metadata": {},
   "outputs": [],
   "source": [
    "vgene_df = pd.DataFrame(vdj_df.groupby('Sample')['V_CALL.L'].value_counts())\n",
    "vgene_df.columns = ['Count']\n",
    "vgene_df['VL_gene'] = vgene_df.index.get_level_values(0)\n",
    "vgene_df.index = vgene_df.index.droplevel(0)\n",
    "vgene_df = vgene_df.pivot(columns='VL_gene')\n",
    "vgene_df.columns = vgene_df.columns.droplevel(0)\n",
    "\n",
    "vgene_df.index = [i.replace('Musmus ', '') for i in vgene_df.index]\n",
    "\n",
    "# Normalize by number of condition cells\n",
    "vgene_df= vgene_df.divide(vdj_df['Sample'].value_counts(), axis=1) * 100"
   ]
  },
  {
   "cell_type": "code",
   "execution_count": 30,
   "metadata": {},
   "outputs": [
    {
     "data": {
      "image/png": "[encoded data removed]",
      "text/plain": [
       "<Figure size 600x400 with 1 Axes>"
      ]
     },
     "metadata": {},
     "output_type": "display_data"
    }
   ],
   "source": [
    "# sns.set(rc = {'figure.figsize':(6,4)}, font_scale=1.1, palette='tab10')\n",
    "# sns.set_style(\"white\", { \"ytick.major.size\": 0.1, \"ytick.minor.size\": 0.05, 'grid.linestyle': '--', 'axes.edgecolor': 'black', 'axes.spines.right': True, 'axes.spines.top': True})\n",
    "\n",
    "\n",
    "plot_df = vgene_df.sort_values(by='m1Ψ-mRNA', ascending=False).head(10)\n",
    "plot_df = plot_df[['Empty LNP','U-mRNA', 'm1Ψ-mRNA', 'GPC']]\n",
    "\n",
    "vgene_df.sort_values(by='m1Ψ-mRNA', ascending=False).head(10).plot.bar(width=0.7, color=colordict)\n",
    "plt.ylabel('Percent of BCRs')\n",
    "\n",
    "plt.tight_layout()\n",
    "\n",
    "# plt.savefig('vl_gene_usage.svg')"
   ]
  },
  {
   "cell_type": "markdown",
   "metadata": {},
   "source": [
    "### Integrating VDJ with Scirpy"
   ]
  },
  {
   "cell_type": "code",
   "execution_count": 31,
   "metadata": {},
   "outputs": [],
   "source": [
    "concat_adata = sc.read_h5ad('concat_adata.h5ad')"
   ]
  },
  {
   "cell_type": "markdown",
   "metadata": {},
   "source": [
    "#### Loading VDJ data"
   ]
  },
  {
   "cell_type": "code",
   "execution_count": null,
   "metadata": {},
   "outputs": [],
   "source": [
    "import dandelion as ddl"
   ]
  },
  {
   "cell_type": "code",
   "execution_count": null,
   "metadata": {},
   "outputs": [],
   "source": [
    "pseudo1_vdj = ddl.read_10x_vdj('./VDJ_annotations/pseudo1/filtered_contig_annotations.csv')\n",
    "pseudo1_vdj.data.repeat = 'pseudo1'\n",
    "pseudo1_vdj.data.Sample = 'm1Ψ-mRNA'\n",
    "\n",
    "pseudo2_vdj = ddl.read_10x_vdj('./VDJ_annotations/pseudo2/filtered_contig_annotations.csv')\n",
    "pseudo1_vdj.data.repeat = 'pseudo1'\n",
    "pseudo1_vdj.data.Sample = 'm1Ψ-mRNA'\n",
    "\n",
    "pseudo3_vdj = ddl.read_10x_vdj('./VDJ_annotations/pseudo3/filtered_contig_annotations.csv')\n",
    "pseudo1_vdj.data.repeat = 'pseudo1'\n",
    "pseudo1_vdj.data.Sample = 'm1Ψ-mRNA'\n",
    "\n",
    "pseudo4_vdj = ddl.read_10x_vdj('./VDJ_annotations/pseudo4/filtered_contig_annotations.csv')\n",
    "pseudo1_vdj.data.repeat = 'pseudo1'\n",
    "pseudo1_vdj.data.Sample = 'm1Ψ-mRNA'\n",
    "\n",
    "pseudo_vdj = ddl.concat([pseudo1_vdj, pseudo2_vdj, pseudo3_vdj, pseudo4_vdj], suffixes=['p1', 'p2','p3', 'p4',])\n",
    "\n",
    "uridine1_vdj = ddl.read_10x_vdj('./VDJ_annotations/uridine1/filtered_contig_annotations.csv')\n",
    "uridine2_vdj = ddl.read_10x_vdj('./VDJ_annotations/uridine2/filtered_contig_annotations.csv')\n",
    "uridine3_vdj = ddl.read_10x_vdj('./VDJ_annotations/uridine3/filtered_contig_annotations.csv')\n",
    "uridine4_vdj = ddl.read_10x_vdj('./VDJ_annotations/uridine4/filtered_contig_annotations.csv')\n",
    "\n",
    "uridine_vdj = ddl.concat([uridine1_vdj, uridine2_vdj, uridine3_vdj, uridine4_vdj], suffixes=['u1', 'u2','u3', 'u4',])\n",
    "\n",
    "gpcag1_vdj = ddl.read_10x_vdj('./VDJ_annotations/gpca1/filtered_contig_annotations.csv')\n",
    "gpcag2_vdj = ddl.read_10x_vdj('./VDJ_annotations/gpca2/filtered_contig_annotations.csv')\n",
    "gpcag3_vdj = ddl.read_10x_vdj('./VDJ_annotations/gpca3/filtered_contig_annotations.csv')\n",
    "gpcag4_vdj = ddl.read_10x_vdj('./VDJ_annotations/gpca4/filtered_contig_annotations.csv')\n",
    "\n",
    "gpcag_vdj = ddl.concat([gpcag1_vdj, gpcag2_vdj, gpcag3_vdj, gpcag4_vdj], suffixes=['g1', 'g2','g3', 'g4',])\n",
    "\n",
    "nano1_vdj = ddl.read_10x_vdj('./VDJ_annotations/nano1/filtered_contig_annotations.csv')\n",
    "nano2_vdj = ddl.read_10x_vdj('./VDJ_annotations/nano2/filtered_contig_annotations.csv')\n",
    "nano3_vdj = ddl.read_10x_vdj('./VDJ_annotations/nano3/filtered_contig_annotations.csv')\n",
    "nano4_vdj = ddl.read_10x_vdj('./VDJ_annotations/nano4/filtered_contig_annotations.csv')\n",
    "\n",
    "nano_vdj = ddl.concat([nano1_vdj, nano2_vdj, nano3_vdj, nano4_vdj], suffixes=['n1', 'n2','n3', 'n4',])"
   ]
  },
  {
   "cell_type": "code",
   "execution_count": 18,
   "metadata": {},
   "outputs": [],
   "source": [
    "vdj_concat = ddl.concat([pseudo_vdj, uridine_vdj, gpcag_vdj, nano_vdj], suffixes=['P', 'U', 'G', 'N'])"
   ]
  },
  {
   "cell_type": "code",
   "execution_count": 19,
   "metadata": {},
   "outputs": [],
   "source": [
    "vdj_concat.data['Repeat'] = [i.split('-')[2] for i in vdj_concat.data.sequence_id]"
   ]
  },
  {
   "cell_type": "code",
   "execution_count": 108,
   "metadata": {},
   "outputs": [],
   "source": [
    "# vdj_concat.write_pkl(('vdj_concat_dandelion_23-11-01.pickle'))"
   ]
  },
  {
   "cell_type": "code",
   "execution_count": 109,
   "metadata": {},
   "outputs": [
    {
     "data": {
      "text/plain": [
       "Dandelion class object with n_obs = 58122 and n_contigs = 117034\n",
       "    data: 'cell_id', 'is_cell_10x', 'sequence_id', 'high_confidence_10x', 'sequence_length_10x', 'locus', 'v_call', 'd_call', 'j_call', 'c_call', 'complete_vdj', 'productive', 'fwr1_aa', 'fwr1', 'cdr1_aa', 'cdr1', 'fwr2_aa', 'fwr2', 'cdr2_aa', 'cdr2', 'fwr3_aa', 'fwr3', 'junction_aa', 'junction', 'fwr4_aa', 'fwr4', 'consensus_count', 'duplicate_count', 'clone_id', 'raw_consensus_id_10x', 'exact_subclonotype_id_10x', 'rearrangement_status', 'Repeat'\n",
       "    metadata: 'clone_id', 'clone_id_by_size', 'locus_VDJ', 'locus_VJ', 'productive_VDJ', 'productive_VJ', 'v_call_VDJ', 'd_call_VDJ', 'j_call_VDJ', 'v_call_VJ', 'j_call_VJ', 'c_call_VDJ', 'c_call_VJ', 'junction_VDJ', 'junction_VJ', 'junction_aa_VDJ', 'junction_aa_VJ', 'v_call_B_VDJ', 'd_call_B_VDJ', 'j_call_B_VDJ', 'v_call_B_VJ', 'j_call_B_VJ', 'c_call_B_VDJ', 'c_call_B_VJ', 'productive_B_VDJ', 'productive_B_VJ', 'duplicate_count_B_VDJ', 'duplicate_count_B_VJ', 'v_call_VDJ_main', 'v_call_VJ_main', 'd_call_VDJ_main', 'j_call_VDJ_main', 'j_call_VJ_main', 'c_call_VDJ_main', 'c_call_VJ_main', 'v_call_B_VDJ_main', 'd_call_B_VDJ_main', 'j_call_B_VDJ_main', 'v_call_B_VJ_main', 'j_call_B_VJ_main', 'isotype', 'isotype_status', 'locus_status', 'chain_status', 'rearrangement_status_VDJ', 'rearrangement_status_VJ'"
      ]
     },
     "execution_count": 109,
     "metadata": {},
     "output_type": "execute_result"
    }
   ],
   "source": [
    "vdj_concat"
   ]
  },
  {
   "cell_type": "code",
   "execution_count": 20,
   "metadata": {},
   "outputs": [],
   "source": [
    "vdj_concat.data['cell_id'] = vdj_concat.data['cell_id'] + '-' + vdj_concat.data['Repeat']"
   ]
  },
  {
   "cell_type": "code",
   "execution_count": 119,
   "metadata": {},
   "outputs": [
    {
     "data": {
      "text/plain": [
       "42810"
      ]
     },
     "execution_count": 119,
     "metadata": {},
     "output_type": "execute_result"
    }
   ],
   "source": [
    "len(np.intersect1d(vdj_concat.data['cell_id'].values, concat_adata.obs.index))"
   ]
  },
  {
   "cell_type": "code",
   "execution_count": null,
   "metadata": {},
   "outputs": [],
   "source": [
    "vdj_concat, concat_adata = ddl.pp.check_contigs(vdj_concat, concat_adata)"
   ]
  },
  {
   "cell_type": "code",
   "execution_count": 21,
   "metadata": {},
   "outputs": [
    {
     "name": "stderr",
     "output_type": "stream",
     "text": [
      "100%|██████████| 528/528 [00:09<00:00, 56.99it/s] \n",
      "100%|██████████| 528/528 [00:46<00:00, 11.31it/s]\n"
     ]
    }
   ],
   "source": [
    "ir.pp.ir_dist(mdata, metric='levenshtein', sequence='aa',cutoff=1.2)"
   ]
  },
  {
   "cell_type": "code",
   "execution_count": 22,
   "metadata": {},
   "outputs": [
    {
     "name": "stderr",
     "output_type": "stream",
     "text": [
      "100%|██████████| 31488/31488 [00:16<00:00, 1955.69it/s]\n"
     ]
    }
   ],
   "source": [
    "ir.tl.define_clonotype_clusters(mdata, sequence=\"aa\", metric=\"levenshtein\", receptor_arms=\"VDJ\", dual_ir=\"primary_only\", same_v_gene = True, resolution = 0.7, key_added='0p7_res_clones')"
   ]
  },
  {
   "cell_type": "code",
   "execution_count": 29,
   "metadata": {},
   "outputs": [],
   "source": [
    "# mdata.write_h5mu('clonal_mdata_24-03-20.h5mu')\n",
    "mdata = ir.io.read_h5mu('clonal_mdata_24-03-20.h5mu')"
   ]
  },
  {
   "cell_type": "code",
   "execution_count": 6,
   "metadata": {},
   "outputs": [
    {
     "data": {
      "text/html": [
       "<pre>MuData object with n_obs × n_vars = 60383 × 1466\n",
       "  2 modalities\n",
       "    GEX:\t42810 x 1466\n",
       "      obs:\t&#x27;Isotype&#x27;, &#x27;Repeat&#x27;, &#x27;n_genes_by_counts&#x27;, &#x27;total_counts&#x27;, &#x27;total_counts_mt&#x27;, &#x27;pct_counts_mt&#x27;, &#x27;Sample&#x27;, &#x27;leiden&#x27;\n",
       "      var:\t&#x27;highly_variable&#x27;, &#x27;means&#x27;, &#x27;dispersions&#x27;, &#x27;dispersions_norm&#x27;, &#x27;mean&#x27;, &#x27;std&#x27;\n",
       "      uns:\t&#x27;Sample_colors&#x27;, &#x27;hvg&#x27;, &#x27;leiden&#x27;, &#x27;leiden_colors&#x27;, &#x27;neighbors&#x27;, &#x27;pca&#x27;, &#x27;umap&#x27;\n",
       "      obsm:\t&#x27;X_pca&#x27;, &#x27;X_umap&#x27;\n",
       "      varm:\t&#x27;PCs&#x27;\n",
       "      layers:\t&#x27;counts&#x27;\n",
       "      obsp:\t&#x27;connectivities&#x27;, &#x27;distances&#x27;\n",
       "    airr:\t60383 x 0\n",
       "      obs:\t&#x27;Repeat&#x27;, &#x27;Sample&#x27;, &#x27;receptor_type&#x27;, &#x27;receptor_subtype&#x27;, &#x27;chain_pairing&#x27;, &#x27;0p7_res_clones&#x27;, &#x27;0p7_res_clones_size&#x27;\n",
       "      uns:\t&#x27;0p7_res_clones&#x27;, &#x27;chain_indices&#x27;, &#x27;ir_dist_aa_levenshtein&#x27;\n",
       "      obsm:\t&#x27;airr&#x27;, &#x27;chain_indices&#x27;</pre>"
      ],
      "text/plain": [
       "MuData object with n_obs × n_vars = 60383 × 1466\n",
       "  2 modalities\n",
       "    GEX:\t42810 x 1466\n",
       "      obs:\t'Isotype', 'Repeat', 'n_genes_by_counts', 'total_counts', 'total_counts_mt', 'pct_counts_mt', 'Sample', 'leiden'\n",
       "      var:\t'highly_variable', 'means', 'dispersions', 'dispersions_norm', 'mean', 'std'\n",
       "      uns:\t'Sample_colors', 'hvg', 'leiden', 'leiden_colors', 'neighbors', 'pca', 'umap'\n",
       "      obsm:\t'X_pca', 'X_umap'\n",
       "      varm:\t'PCs'\n",
       "      layers:\t'counts'\n",
       "      obsp:\t'connectivities', 'distances'\n",
       "    airr:\t60383 x 0\n",
       "      obs:\t'Repeat', 'Sample', 'receptor_type', 'receptor_subtype', 'chain_pairing', '0p7_res_clones', '0p7_res_clones_size'\n",
       "      uns:\t'0p7_res_clones', 'chain_indices', 'ir_dist_aa_levenshtein'\n",
       "      obsm:\t'airr', 'chain_indices'"
      ]
     },
     "execution_count": 6,
     "metadata": {},
     "output_type": "execute_result"
    }
   ],
   "source": [
    "mdata"
   ]
  },
  {
   "cell_type": "code",
   "execution_count": 54,
   "metadata": {},
   "outputs": [
    {
     "data": {
      "image/png": "[encoded data removed]",
      "text/plain": [
       "<Figure size 412.8x309.6 with 1 Axes>"
      ]
     },
     "metadata": {},
     "output_type": "display_data"
    }
   ],
   "source": [
    "_ = ir.pl.clonal_expansion(\n",
    "    mdata, target_col=\"0p7_res_clones\", groupby=\"airr:Sample\", breakpoints = (1,5,10),normalize=True, width=0.8) #clip_at=5,\n",
    "\n",
    "plt.ylabel('Proportion of clonal groups')\n",
    "# plt.legend(title='Group size')\n",
    "\n",
    "# _.legend(labels=['>10', '1', '2-5', '6-10', ], title='Clonal group size', bbox_to_anchor=(1,1))\n",
    "plt.tight_layout()\n",
    "\n",
    "# plt.savefig('clonal_expansion_barplot_24-03-21.svg')"
   ]
  },
  {
   "cell_type": "code",
   "execution_count": 5,
   "metadata": {},
   "outputs": [
    {
     "name": "stderr",
     "output_type": "stream",
     "text": [
      "C:\\Users\\perry\\AppData\\Local\\Temp\\ipykernel_25680\\245493805.py:2: SettingWithCopyWarning: \n",
      "A value is trying to be set on a copy of a slice from a DataFrame\n",
      "\n",
      "See the caveats in the documentation: https://pandas.pydata.org/pandas-docs/stable/user_guide/indexing.html#returning-a-view-versus-a-copy\n",
      "  clone_df.dropna(inplace=True)\n"
     ]
    }
   ],
   "source": [
    "clone_df = mdata['airr'].obs[['0p7_res_clones', 'Sample']]\n",
    "clone_df.dropna(inplace=True)\n",
    "\n",
    "clone_df['Repeat'] = clone_df.index\n",
    "clone_df['Repeat'] = clone_df['Repeat'].apply(lambda x:x.split('-')[2])"
   ]
  },
  {
   "cell_type": "code",
   "execution_count": 23,
   "metadata": {},
   "outputs": [],
   "source": [
    "matrix_df = pd.DataFrame(index = clone_df['Repeat'].unique(), columns = clone_df['Repeat'].unique())\n",
    "\n",
    "for sample1 in clone_df['Repeat'].unique():\n",
    "    for sample2 in clone_df['Repeat'].unique():\n",
    "        matrix_df.loc[sample1, sample2] = len(np.intersect1d(clone_df[clone_df['Repeat'] == sample1]['0p7_res_clones'].unique(), clone_df[clone_df['Repeat'] == sample2]['0p7_res_clones'].unique()))"
   ]
  },
  {
   "cell_type": "code",
   "execution_count": 24,
   "metadata": {},
   "outputs": [
    {
     "data": {
      "text/html": [
       "<div>\n",
       "<style scoped>\n",
       "    .dataframe tbody tr th:only-of-type {\n",
       "        vertical-align: middle;\n",
       "    }\n",
       "\n",
       "    .dataframe tbody tr th {\n",
       "        vertical-align: top;\n",
       "    }\n",
       "\n",
       "    .dataframe thead th {\n",
       "        text-align: right;\n",
       "    }\n",
       "</style>\n",
       "<table border=\"1\" class=\"dataframe\">\n",
       "  <thead>\n",
       "    <tr style=\"text-align: right;\">\n",
       "      <th></th>\n",
       "      <th>p1</th>\n",
       "      <th>p2</th>\n",
       "      <th>p3</th>\n",
       "      <th>p4</th>\n",
       "      <th>u1</th>\n",
       "      <th>u2</th>\n",
       "      <th>u3</th>\n",
       "      <th>u4</th>\n",
       "      <th>g1</th>\n",
       "      <th>g2</th>\n",
       "      <th>g3</th>\n",
       "      <th>g4</th>\n",
       "      <th>n1</th>\n",
       "      <th>n2</th>\n",
       "      <th>n3</th>\n",
       "      <th>n4</th>\n",
       "    </tr>\n",
       "  </thead>\n",
       "  <tbody>\n",
       "    <tr>\n",
       "      <th>p1</th>\n",
       "      <td>1907</td>\n",
       "      <td>116</td>\n",
       "      <td>49</td>\n",
       "      <td>35</td>\n",
       "      <td>21</td>\n",
       "      <td>18</td>\n",
       "      <td>18</td>\n",
       "      <td>10</td>\n",
       "      <td>4</td>\n",
       "      <td>10</td>\n",
       "      <td>17</td>\n",
       "      <td>12</td>\n",
       "      <td>8</td>\n",
       "      <td>2</td>\n",
       "      <td>10</td>\n",
       "      <td>10</td>\n",
       "    </tr>\n",
       "    <tr>\n",
       "      <th>p2</th>\n",
       "      <td>116</td>\n",
       "      <td>2071</td>\n",
       "      <td>101</td>\n",
       "      <td>29</td>\n",
       "      <td>25</td>\n",
       "      <td>18</td>\n",
       "      <td>27</td>\n",
       "      <td>16</td>\n",
       "      <td>8</td>\n",
       "      <td>17</td>\n",
       "      <td>18</td>\n",
       "      <td>15</td>\n",
       "      <td>8</td>\n",
       "      <td>5</td>\n",
       "      <td>17</td>\n",
       "      <td>13</td>\n",
       "    </tr>\n",
       "    <tr>\n",
       "      <th>p3</th>\n",
       "      <td>49</td>\n",
       "      <td>101</td>\n",
       "      <td>2133</td>\n",
       "      <td>46</td>\n",
       "      <td>25</td>\n",
       "      <td>23</td>\n",
       "      <td>29</td>\n",
       "      <td>14</td>\n",
       "      <td>12</td>\n",
       "      <td>10</td>\n",
       "      <td>22</td>\n",
       "      <td>16</td>\n",
       "      <td>13</td>\n",
       "      <td>6</td>\n",
       "      <td>4</td>\n",
       "      <td>10</td>\n",
       "    </tr>\n",
       "    <tr>\n",
       "      <th>p4</th>\n",
       "      <td>35</td>\n",
       "      <td>29</td>\n",
       "      <td>46</td>\n",
       "      <td>2040</td>\n",
       "      <td>25</td>\n",
       "      <td>21</td>\n",
       "      <td>20</td>\n",
       "      <td>13</td>\n",
       "      <td>6</td>\n",
       "      <td>10</td>\n",
       "      <td>16</td>\n",
       "      <td>15</td>\n",
       "      <td>10</td>\n",
       "      <td>4</td>\n",
       "      <td>6</td>\n",
       "      <td>10</td>\n",
       "    </tr>\n",
       "    <tr>\n",
       "      <th>u1</th>\n",
       "      <td>21</td>\n",
       "      <td>25</td>\n",
       "      <td>25</td>\n",
       "      <td>25</td>\n",
       "      <td>1300</td>\n",
       "      <td>35</td>\n",
       "      <td>17</td>\n",
       "      <td>10</td>\n",
       "      <td>6</td>\n",
       "      <td>5</td>\n",
       "      <td>9</td>\n",
       "      <td>8</td>\n",
       "      <td>5</td>\n",
       "      <td>3</td>\n",
       "      <td>2</td>\n",
       "      <td>9</td>\n",
       "    </tr>\n",
       "    <tr>\n",
       "      <th>u2</th>\n",
       "      <td>18</td>\n",
       "      <td>18</td>\n",
       "      <td>23</td>\n",
       "      <td>21</td>\n",
       "      <td>35</td>\n",
       "      <td>1942</td>\n",
       "      <td>91</td>\n",
       "      <td>22</td>\n",
       "      <td>3</td>\n",
       "      <td>7</td>\n",
       "      <td>5</td>\n",
       "      <td>8</td>\n",
       "      <td>8</td>\n",
       "      <td>4</td>\n",
       "      <td>4</td>\n",
       "      <td>8</td>\n",
       "    </tr>\n",
       "    <tr>\n",
       "      <th>u3</th>\n",
       "      <td>18</td>\n",
       "      <td>27</td>\n",
       "      <td>29</td>\n",
       "      <td>20</td>\n",
       "      <td>17</td>\n",
       "      <td>91</td>\n",
       "      <td>2395</td>\n",
       "      <td>116</td>\n",
       "      <td>6</td>\n",
       "      <td>11</td>\n",
       "      <td>11</td>\n",
       "      <td>17</td>\n",
       "      <td>9</td>\n",
       "      <td>2</td>\n",
       "      <td>8</td>\n",
       "      <td>10</td>\n",
       "    </tr>\n",
       "    <tr>\n",
       "      <th>u4</th>\n",
       "      <td>10</td>\n",
       "      <td>16</td>\n",
       "      <td>14</td>\n",
       "      <td>13</td>\n",
       "      <td>10</td>\n",
       "      <td>22</td>\n",
       "      <td>116</td>\n",
       "      <td>2057</td>\n",
       "      <td>4</td>\n",
       "      <td>5</td>\n",
       "      <td>6</td>\n",
       "      <td>12</td>\n",
       "      <td>8</td>\n",
       "      <td>3</td>\n",
       "      <td>10</td>\n",
       "      <td>9</td>\n",
       "    </tr>\n",
       "    <tr>\n",
       "      <th>g1</th>\n",
       "      <td>4</td>\n",
       "      <td>8</td>\n",
       "      <td>12</td>\n",
       "      <td>6</td>\n",
       "      <td>6</td>\n",
       "      <td>3</td>\n",
       "      <td>6</td>\n",
       "      <td>4</td>\n",
       "      <td>586</td>\n",
       "      <td>37</td>\n",
       "      <td>15</td>\n",
       "      <td>18</td>\n",
       "      <td>1</td>\n",
       "      <td>0</td>\n",
       "      <td>3</td>\n",
       "      <td>2</td>\n",
       "    </tr>\n",
       "    <tr>\n",
       "      <th>g2</th>\n",
       "      <td>10</td>\n",
       "      <td>17</td>\n",
       "      <td>10</td>\n",
       "      <td>10</td>\n",
       "      <td>5</td>\n",
       "      <td>7</td>\n",
       "      <td>11</td>\n",
       "      <td>5</td>\n",
       "      <td>37</td>\n",
       "      <td>1245</td>\n",
       "      <td>41</td>\n",
       "      <td>32</td>\n",
       "      <td>5</td>\n",
       "      <td>0</td>\n",
       "      <td>6</td>\n",
       "      <td>9</td>\n",
       "    </tr>\n",
       "    <tr>\n",
       "      <th>g3</th>\n",
       "      <td>17</td>\n",
       "      <td>18</td>\n",
       "      <td>22</td>\n",
       "      <td>16</td>\n",
       "      <td>9</td>\n",
       "      <td>5</td>\n",
       "      <td>11</td>\n",
       "      <td>6</td>\n",
       "      <td>15</td>\n",
       "      <td>41</td>\n",
       "      <td>1434</td>\n",
       "      <td>117</td>\n",
       "      <td>9</td>\n",
       "      <td>4</td>\n",
       "      <td>4</td>\n",
       "      <td>7</td>\n",
       "    </tr>\n",
       "    <tr>\n",
       "      <th>g4</th>\n",
       "      <td>12</td>\n",
       "      <td>15</td>\n",
       "      <td>16</td>\n",
       "      <td>15</td>\n",
       "      <td>8</td>\n",
       "      <td>8</td>\n",
       "      <td>17</td>\n",
       "      <td>12</td>\n",
       "      <td>18</td>\n",
       "      <td>32</td>\n",
       "      <td>117</td>\n",
       "      <td>1699</td>\n",
       "      <td>4</td>\n",
       "      <td>1</td>\n",
       "      <td>7</td>\n",
       "      <td>7</td>\n",
       "    </tr>\n",
       "    <tr>\n",
       "      <th>n1</th>\n",
       "      <td>8</td>\n",
       "      <td>8</td>\n",
       "      <td>13</td>\n",
       "      <td>10</td>\n",
       "      <td>5</td>\n",
       "      <td>8</td>\n",
       "      <td>9</td>\n",
       "      <td>8</td>\n",
       "      <td>1</td>\n",
       "      <td>5</td>\n",
       "      <td>9</td>\n",
       "      <td>4</td>\n",
       "      <td>962</td>\n",
       "      <td>4</td>\n",
       "      <td>3</td>\n",
       "      <td>6</td>\n",
       "    </tr>\n",
       "    <tr>\n",
       "      <th>n2</th>\n",
       "      <td>2</td>\n",
       "      <td>5</td>\n",
       "      <td>6</td>\n",
       "      <td>4</td>\n",
       "      <td>3</td>\n",
       "      <td>4</td>\n",
       "      <td>2</td>\n",
       "      <td>3</td>\n",
       "      <td>0</td>\n",
       "      <td>0</td>\n",
       "      <td>4</td>\n",
       "      <td>1</td>\n",
       "      <td>4</td>\n",
       "      <td>625</td>\n",
       "      <td>2</td>\n",
       "      <td>4</td>\n",
       "    </tr>\n",
       "    <tr>\n",
       "      <th>n3</th>\n",
       "      <td>10</td>\n",
       "      <td>17</td>\n",
       "      <td>4</td>\n",
       "      <td>6</td>\n",
       "      <td>2</td>\n",
       "      <td>4</td>\n",
       "      <td>8</td>\n",
       "      <td>10</td>\n",
       "      <td>3</td>\n",
       "      <td>6</td>\n",
       "      <td>4</td>\n",
       "      <td>7</td>\n",
       "      <td>3</td>\n",
       "      <td>2</td>\n",
       "      <td>918</td>\n",
       "      <td>5</td>\n",
       "    </tr>\n",
       "    <tr>\n",
       "      <th>n4</th>\n",
       "      <td>10</td>\n",
       "      <td>13</td>\n",
       "      <td>10</td>\n",
       "      <td>10</td>\n",
       "      <td>9</td>\n",
       "      <td>8</td>\n",
       "      <td>10</td>\n",
       "      <td>9</td>\n",
       "      <td>2</td>\n",
       "      <td>9</td>\n",
       "      <td>7</td>\n",
       "      <td>7</td>\n",
       "      <td>6</td>\n",
       "      <td>4</td>\n",
       "      <td>5</td>\n",
       "      <td>1314</td>\n",
       "    </tr>\n",
       "  </tbody>\n",
       "</table>\n",
       "</div>"
      ],
      "text/plain": [
       "      p1    p2    p3    p4    u1    u2    u3    u4   g1    g2    g3    g4  \\\n",
       "p1  1907   116    49    35    21    18    18    10    4    10    17    12   \n",
       "p2   116  2071   101    29    25    18    27    16    8    17    18    15   \n",
       "p3    49   101  2133    46    25    23    29    14   12    10    22    16   \n",
       "p4    35    29    46  2040    25    21    20    13    6    10    16    15   \n",
       "u1    21    25    25    25  1300    35    17    10    6     5     9     8   \n",
       "u2    18    18    23    21    35  1942    91    22    3     7     5     8   \n",
       "u3    18    27    29    20    17    91  2395   116    6    11    11    17   \n",
       "u4    10    16    14    13    10    22   116  2057    4     5     6    12   \n",
       "g1     4     8    12     6     6     3     6     4  586    37    15    18   \n",
       "g2    10    17    10    10     5     7    11     5   37  1245    41    32   \n",
       "g3    17    18    22    16     9     5    11     6   15    41  1434   117   \n",
       "g4    12    15    16    15     8     8    17    12   18    32   117  1699   \n",
       "n1     8     8    13    10     5     8     9     8    1     5     9     4   \n",
       "n2     2     5     6     4     3     4     2     3    0     0     4     1   \n",
       "n3    10    17     4     6     2     4     8    10    3     6     4     7   \n",
       "n4    10    13    10    10     9     8    10     9    2     9     7     7   \n",
       "\n",
       "     n1   n2   n3    n4  \n",
       "p1    8    2   10    10  \n",
       "p2    8    5   17    13  \n",
       "p3   13    6    4    10  \n",
       "p4   10    4    6    10  \n",
       "u1    5    3    2     9  \n",
       "u2    8    4    4     8  \n",
       "u3    9    2    8    10  \n",
       "u4    8    3   10     9  \n",
       "g1    1    0    3     2  \n",
       "g2    5    0    6     9  \n",
       "g3    9    4    4     7  \n",
       "g4    4    1    7     7  \n",
       "n1  962    4    3     6  \n",
       "n2    4  625    2     4  \n",
       "n3    3    2  918     5  \n",
       "n4    6    4    5  1314  "
      ]
     },
     "execution_count": 24,
     "metadata": {},
     "output_type": "execute_result"
    }
   ],
   "source": [
    "matrix_df"
   ]
  },
  {
   "cell_type": "code",
   "execution_count": 14,
   "metadata": {},
   "outputs": [
    {
     "data": {
      "image/png": "[encoded data removed]",
      "text/plain": [
       "<Figure size 600x600 with 1 Axes>"
      ]
     },
     "metadata": {},
     "output_type": "display_data"
    }
   ],
   "source": [
    "from venny4py.venny4py import *\n",
    "plt.rcParams.update({'font.size': 16})\n",
    "\n",
    "\n",
    "grouped = clone_df.groupby('Sample')['0p7_res_clones'].apply(set)\n",
    "\n",
    "sns.set_palette(['blue', 'red','lightgreen', 'black'])\n",
    "\n",
    "\n",
    "venny4py(sets=grouped.to_dict(), dpi=600, size=3,  ext='png')"
   ]
  }
 ],
 "metadata": {
  "anaconda-cloud": {},
  "kernelspec": {
   "display_name": "Python 3.10.4 ('scanpy')",
   "language": "python",
   "name": "python3"
  },
  "language_info": {
   "codemirror_mode": {
    "name": "ipython",
    "version": 3
   },
   "file_extension": ".py",
   "mimetype": "text/x-python",
   "name": "python",
   "nbconvert_exporter": "python",
   "pygments_lexer": "ipython3",
   "version": "3.11.8"
  },
  "vscode": {
   "interpreter": {
    "hash": "fbebedf494864f5a7bf1422628b41172b146a22fb331a68d487bf4abe44a60a9"
   }
  }
 },
 "nbformat": 4,
 "nbformat_minor": 4
}
